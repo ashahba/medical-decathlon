{
 "cells": [
  {
   "cell_type": "markdown",
   "metadata": {},
   "source": [
    "# Biomedical Image Segmentation with U-Net\n",
    "\n",
    "In this code example, we apply the U-Net architecture to segment brain tumors from raw MRI scans as shown below. With relatively little data we are able to train a U-Net model to accurately predict where tumors exist. \n",
    "\n",
    "The Dice coefficient (the standard metric for the BraTS dataset used in the study) for our model is about 0.82-0.88.  Menze et al. [reported](http://ieeexplore.ieee.org/document/6975210/) that expert neuroradiologists manually segmented these tumors with a cross-rater Dice score of 0.75-0.85, meaning that the model’s predictions are on par with what expert physicians have made."
   ]
  },
  {
   "cell_type": "markdown",
   "metadata": {},
   "source": [
    "<img src=\"images/figure1.png\">"
   ]
  },
  {
   "cell_type": "markdown",
   "metadata": {},
   "source": [
    "Since its introduction two years ago, the [U-Net](https://arxiv.org/pdf/1505.04597.pdf0) architecture has been used to create deep learning models for segmenting [nerves](https://github.com/jocicmarko/ultrasound-nerve-segmentation) in ultrasound images, [lungs](https://www.kaggle.com/c/data-science-bowl-2017#tutorial) in CT scans, and even [interference](https://github.com/jakeret/tf_unet) in radio telescopes.\n",
    "\n",
    "## What is U-Net?\n",
    "U-Net is designed like an [auto-encoder](https://en.wikipedia.org/wiki/Autoencoder). It has an encoding path (“contracting”) paired with a decoding path (“expanding”) which gives it the “U” shape.  However, in contrast to the autoencoder, U-Net predicts a pixelwise segmentation map of the input image rather than classifying the input image as a whole. For each pixel in the original image, it asks the question: “To which class does this pixel belong?” This flexibility allows U-Net to predict different parts of the tumor simultaneously."
   ]
  },
  {
   "cell_type": "markdown",
   "metadata": {},
   "source": [
    "<img src=\"images/unet.png\">"
   ]
  },
  {
   "cell_type": "markdown",
   "metadata": {},
   "source": [
    "This module loads the data from data.py, creates a TensorFlow/Keras model from model.py, trains the model on the data, and then saves the best model."
   ]
  },
  {
   "cell_type": "code",
   "execution_count": 1,
   "metadata": {
    "scrolled": true
   },
   "outputs": [
    {
     "name": "stdout",
     "output_type": "stream",
     "text": [
      "Data format = channels_last\n",
      "We are using Tensorflow version 1.12.0 with Intel(R) MKL enabled\n"
     ]
    },
    {
     "name": "stderr",
     "output_type": "stream",
     "text": [
      "Using TensorFlow backend.\n"
     ]
    }
   ],
   "source": [
    "import tensorflow as tf \n",
    "import time\n",
    "import os\n",
    "import settings    # Use the custom settings.py file for default parameters\n",
    "import onnxmltools\n",
    "\n",
    "import sys; sys.argv=['']; del sys\n",
    "from model import load_model, get_callbacks, evaluate_model\n",
    "from data import load_data\n",
    "\n",
    "from argparser import args\n",
    "\n",
    "if args.keras_api:\n",
    "    import keras as K\n",
    "else:\n",
    "    from tensorflow import keras as K\n",
    "\n",
    "print (\"We are using Tensorflow version\", tf.__version__,\\\n",
    "       \"with Intel(R) MKL\", \"enabled\" if tf.pywrap_tensorflow.IsMklEnabled() else \"disabled\",)\n"
   ]
  },
  {
   "cell_type": "markdown",
   "metadata": {},
   "source": [
    "For best CPU speed set the number of intra and inter threads to take advantage of multi-core systems.\n",
    "See https://github.com/intel/mkl-dnn"
   ]
  },
  {
   "cell_type": "code",
   "execution_count": 3,
   "metadata": {},
   "outputs": [],
   "source": [
    "#TODO: Set the multi-threading parameters for Tensorflow. \n",
    "config = tf.ConfigProto(intra_op_parallelism_threads=args.num_threads,\n",
    "                        inter_op_parallelism_threads=args.num_inter_threads)\n",
    "\n",
    "sess = tf.Session(config=config)\n",
    "\n",
    "K.backend.set_session(sess)"
   ]
  },
  {
   "cell_type": "code",
   "execution_count": 4,
   "metadata": {},
   "outputs": [],
   "source": [
    "# import os\n",
    "# os.environ['MKLDNN_VEdRBOSE'] = \"2\""
   ]
  },
  {
   "cell_type": "code",
   "execution_count": 5,
   "metadata": {},
   "outputs": [
    {
     "name": "stdout",
     "output_type": "stream",
     "text": [
      "/home/ubuntu/anaconda3/envs/decathlon/bin/python\r\n"
     ]
    }
   ],
   "source": [
    "!which python"
   ]
  },
  {
   "cell_type": "code",
   "execution_count": 6,
   "metadata": {},
   "outputs": [],
   "source": [
    "def train_and_predict(data_path, data_filename, batch_size, n_epoch, onnx=False):\n",
    "    \"\"\"\n",
    "    Create a model, load the data, and train it.\n",
    "    \"\"\"\n",
    "\n",
    "    \"\"\"\n",
    "    Step 1: Load the data\n",
    "    \"\"\"\n",
    "    hdf5_filename = os.path.join(data_path, data_filename)\n",
    "    print(\"-\" * 30)\n",
    "    print(\"Loading the data from HDF5 file ...\")\n",
    "    print(\"-\" * 30)\n",
    "\n",
    "    imgs_train, msks_train, imgs_validation, msks_validation = load_data(hdf5_filename)\n",
    "\n",
    "    print(\"-\" * 30)\n",
    "    print(\"Creating and compiling model ...\")\n",
    "    print(\"-\" * 30)\n",
    "\n",
    "    \"\"\"\n",
    "    Step 2: Define the model\n",
    "    \"\"\"\n",
    "    model = load_model(imgs_train.shape, msks_train.shape)\n",
    "\n",
    "    model_filename, model_callbacks = get_callbacks()\n",
    "\n",
    "    \"\"\"\n",
    "    Step 3: Train the model on the data\n",
    "    \"\"\"\n",
    "    print(\"-\" * 30)\n",
    "    print(\"Fitting model with training data ...\")\n",
    "    print(\"-\" * 30)\n",
    "    \n",
    "    if onnx:\n",
    "        for i in range(0,30):\n",
    "            print (\"Processing batch:\", i)\n",
    "            start_time = time.time()\n",
    "            model.train_on_batch(imgs_train[i*batch_size:batch_size*(i+1)-1], \\\n",
    "                                 msks_train[i*batch_size:batch_size*(i+1)-1])\n",
    "            print (\"Time for training on batch:\", time.time() - start_time) \n",
    "\n",
    "        # TODO: Convert the Keras model to ONNX and save it. \n",
    "        onnx_model = onnxmltools.convert_keras(model, target_opset=7) \n",
    "        onnxmltools.utils.save_model(onnx_model, 'output/unet_model_for_decathlon.onnx')\n",
    "    else:\n",
    "        history = model.fit(imgs_train, msks_train,\n",
    "                            batch_size=batch_size,\n",
    "                            epochs=n_epoch,\n",
    "                            validation_data=(imgs_validation, msks_validation),\n",
    "                            verbose=1, shuffle=\"batch\",\n",
    "                            callbacks=model_callbacks)\n",
    "    \n",
    "    \n",
    "\n",
    "    # Append training log\n",
    "    # with open(\"training.log\",\"a+\") as fp:\n",
    "    #     fp.write(\"{}: {}\\n\".format(datetime.datetime.now(),\n",
    "    #                              history.history[\"val_dice_coef\"]))\n",
    "\n",
    "\n",
    "    \"\"\"\n",
    "    Step 4: Evaluate the best model\n",
    "    \"\"\"\n",
    "    print(\"-\" * 30)\n",
    "    print(\"Loading the best trained model ...\")\n",
    "    print(\"-\" * 30)\n",
    "\n",
    "    model = evaluate_model(model_filename, imgs_validation, msks_validation)"
   ]
  },
  {
   "cell_type": "markdown",
   "metadata": {},
   "source": [
    "Get some details on the processor of our system"
   ]
  },
  {
   "cell_type": "code",
   "execution_count": null,
   "metadata": {},
   "outputs": [
    {
     "name": "stdout",
     "output_type": "stream",
     "text": [
      "Started script on 2019-01-30 15:26:00.549768\n",
      "args = Namespace(batch_size=128, blocktime=1, channels_first=False, data_filename='Task01_BrainTumour.h5', data_path='../data/144x144/', epochs=30, featuremaps=32, inference_filename='unet_model_for_decathlon.hdf5', keras_api=True, learningrate=0.0001, num_inter_threads=1, num_threads=8, output_path='./output/', print_model=True, use_augmentation=False, use_dropout=False, use_upsampling=True, weight_dice_loss=0.9)\n",
      "TensorFlow version: 1.12.0\n",
      "------------------------------\n",
      "Loading the data from HDF5 file ...\n",
      "------------------------------\n",
      "Batch size = 128\n",
      "Training image dimensions:   (58464, 144, 144, 4)\n",
      "Training mask dimensions:    (58464, 144, 144, 1)\n",
      "Validation image dimensions: (11232, 144, 144, 4)\n",
      "Validation mask dimensions:  (11232, 144, 144, 1)\n",
      "------------------------------\n",
      "Creating and compiling model ...\n",
      "------------------------------\n",
      "Using UpSampling2D\n"
     ]
    },
    {
     "name": "stderr",
     "output_type": "stream",
     "text": [
      "/home/ubuntu/anaconda3/envs/decathlon/lib/python3.6/site-packages/keras_preprocessing/image.py:836: UserWarning: This ImageDataGenerator specifies `zca_whitening`, which overrides setting of `featurewise_center`.\n",
      "  warnings.warn('This ImageDataGenerator specifies '\n"
     ]
    },
    {
     "name": "stdout",
     "output_type": "stream",
     "text": [
      "__________________________________________________________________________________________________\n",
      "Layer (type)                    Output Shape         Param #     Connected to                     \n",
      "==================================================================================================\n",
      "MRImages (InputLayer)           (None, 144, 144, 4)  0                                            \n",
      "__________________________________________________________________________________________________\n",
      "encodeAa (Conv2D)               (None, 144, 144, 32) 1184        MRImages[0][0]                   \n",
      "__________________________________________________________________________________________________\n",
      "encodeAb (Conv2D)               (None, 144, 144, 32) 9248        encodeAa[0][0]                   \n",
      "__________________________________________________________________________________________________\n",
      "poolA (MaxPooling2D)            (None, 72, 72, 32)   0           encodeAb[0][0]                   \n",
      "__________________________________________________________________________________________________\n",
      "encodeBa (Conv2D)               (None, 72, 72, 64)   18496       poolA[0][0]                      \n",
      "__________________________________________________________________________________________________\n",
      "encodeBb (Conv2D)               (None, 72, 72, 64)   36928       encodeBa[0][0]                   \n",
      "__________________________________________________________________________________________________\n",
      "poolB (MaxPooling2D)            (None, 36, 36, 64)   0           encodeBb[0][0]                   \n",
      "__________________________________________________________________________________________________\n",
      "encodeCa (Conv2D)               (None, 36, 36, 128)  73856       poolB[0][0]                      \n",
      "__________________________________________________________________________________________________\n",
      "encodeCb (Conv2D)               (None, 36, 36, 128)  147584      encodeCa[0][0]                   \n",
      "__________________________________________________________________________________________________\n",
      "poolC (MaxPooling2D)            (None, 18, 18, 128)  0           encodeCb[0][0]                   \n",
      "__________________________________________________________________________________________________\n",
      "encodeDa (Conv2D)               (None, 18, 18, 256)  295168      poolC[0][0]                      \n",
      "__________________________________________________________________________________________________\n",
      "encodeDb (Conv2D)               (None, 18, 18, 256)  590080      encodeDa[0][0]                   \n",
      "__________________________________________________________________________________________________\n",
      "poolD (MaxPooling2D)            (None, 9, 9, 256)    0           encodeDb[0][0]                   \n",
      "__________________________________________________________________________________________________\n",
      "encodeEa (Conv2D)               (None, 9, 9, 512)    1180160     poolD[0][0]                      \n",
      "__________________________________________________________________________________________________\n",
      "encodeEb (Conv2D)               (None, 9, 9, 512)    2359808     encodeEa[0][0]                   \n",
      "__________________________________________________________________________________________________\n",
      "upE (UpSampling2D)              (None, 18, 18, 512)  0           encodeEb[0][0]                   \n",
      "__________________________________________________________________________________________________\n",
      "concatD (Concatenate)           (None, 18, 18, 768)  0           upE[0][0]                        \n",
      "                                                                 encodeDb[0][0]                   \n",
      "__________________________________________________________________________________________________\n",
      "decodeCa (Conv2D)               (None, 18, 18, 256)  1769728     concatD[0][0]                    \n",
      "__________________________________________________________________________________________________\n",
      "decodeCb (Conv2D)               (None, 18, 18, 256)  590080      decodeCa[0][0]                   \n",
      "__________________________________________________________________________________________________\n",
      "upC (UpSampling2D)              (None, 36, 36, 256)  0           decodeCb[0][0]                   \n",
      "__________________________________________________________________________________________________\n",
      "concatC (Concatenate)           (None, 36, 36, 384)  0           upC[0][0]                        \n",
      "                                                                 encodeCb[0][0]                   \n",
      "__________________________________________________________________________________________________\n",
      "decodeBa (Conv2D)               (None, 36, 36, 128)  442496      concatC[0][0]                    \n",
      "__________________________________________________________________________________________________\n",
      "decodeBb (Conv2D)               (None, 36, 36, 128)  147584      decodeBa[0][0]                   \n",
      "__________________________________________________________________________________________________\n",
      "upB (UpSampling2D)              (None, 72, 72, 128)  0           decodeBb[0][0]                   \n",
      "__________________________________________________________________________________________________\n",
      "concatB (Concatenate)           (None, 72, 72, 192)  0           upB[0][0]                        \n",
      "                                                                 encodeBb[0][0]                   \n",
      "__________________________________________________________________________________________________\n",
      "decodeAa (Conv2D)               (None, 72, 72, 64)   110656      concatB[0][0]                    \n",
      "__________________________________________________________________________________________________\n",
      "decodeAb (Conv2D)               (None, 72, 72, 64)   36928       decodeAa[0][0]                   \n",
      "__________________________________________________________________________________________________\n",
      "upA (UpSampling2D)              (None, 144, 144, 64) 0           decodeAb[0][0]                   \n",
      "__________________________________________________________________________________________________\n",
      "concatA (Concatenate)           (None, 144, 144, 96) 0           upA[0][0]                        \n",
      "                                                                 encodeAb[0][0]                   \n",
      "__________________________________________________________________________________________________\n",
      "convOuta (Conv2D)               (None, 144, 144, 32) 27680       concatA[0][0]                    \n",
      "__________________________________________________________________________________________________\n",
      "convOutb (Conv2D)               (None, 144, 144, 32) 9248        convOuta[0][0]                   \n",
      "__________________________________________________________________________________________________\n",
      "PredictionMask (Conv2D)         (None, 144, 144, 1)  33          convOutb[0][0]                   \n",
      "==================================================================================================\n",
      "Total params: 7,846,945\n",
      "Trainable params: 7,846,945\n",
      "Non-trainable params: 0\n",
      "__________________________________________________________________________________________________\n",
      "Writing model to './output/unet_model_for_decathlon.hdf5'\n",
      "------------------------------\n",
      "Fitting model with training data ...\n",
      "------------------------------\n",
      "Train on 58464 samples, validate on 11232 samples\n",
      "Epoch 1/30\n",
      "12032/58464 [=====>........................] - ETA: 1:00:04 - loss: 1.4581 - acc: 0.8720 - dice_coef: 0.2396"
     ]
    }
   ],
   "source": [
    "import datetime\n",
    "print(\"Started script on {}\".format(datetime.datetime.now()))\n",
    "\n",
    "print(\"args = {}\".format(args))\n",
    "os.system(\"uname -a\")\n",
    "print(\"TensorFlow version: {}\".format(tf.__version__))\n",
    "start_time = time.time()\n",
    "\n",
    "#TODO: Enable/Disable ONNX\n",
    "train_and_predict(args.data_path, \n",
    "                  args.data_filename,\n",
    "                  args.batch_size, \n",
    "                  args.epochs,\n",
    "                  onnx=False)\n",
    "\n",
    "print(\"Total time elapsed for program = {} seconds\".format(time.time() - start_time))\n",
    "print(\"Stopped script on {}\".format(datetime.datetime.now()))"
   ]
  },
  {
   "cell_type": "markdown",
   "metadata": {},
   "source": [
    "Licensed under the Apache License, Version 2.0 (the \"License\");\n",
    "you may not use this file except in compliance with the License.\n",
    "You may obtain a copy of the License at\n",
    "   http://www.apache.org/licenses/LICENSE-2.0\n",
    "Unless required by applicable law or agreed to in writing, software\n",
    "distributed under the License is distributed on an \"AS IS\" BASIS,\n",
    "WITHOUT WARRANTIES OR CONDITIONS OF ANY KIND, either express or implied.\n",
    "See the License for the specific language governing permissions and\n",
    "limitations under the License.\n",
    "\n",
    "SPDX-License-Identifier: EPL-2.0\n"
   ]
  }
 ],
 "metadata": {
  "kernelspec": {
   "display_name": "Python [conda env:decathlon]",
   "language": "python",
   "name": "conda-env-decathlon-py"
  },
  "language_info": {
   "codemirror_mode": {
    "name": "ipython",
    "version": 3
   },
   "file_extension": ".py",
   "mimetype": "text/x-python",
   "name": "python",
   "nbconvert_exporter": "python",
   "pygments_lexer": "ipython3",
   "version": "3.6.5"
  }
 },
 "nbformat": 4,
 "nbformat_minor": 2
}
