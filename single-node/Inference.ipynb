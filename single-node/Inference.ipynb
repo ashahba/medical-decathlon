{
 "cells": [
  {
   "cell_type": "markdown",
   "metadata": {},
   "source": [
    "# Inference example for trained 2D U-Net model on BraTS.\n",
    "Takes a trained model and performs inference on a few validation examples."
   ]
  },
  {
   "cell_type": "code",
   "execution_count": null,
   "metadata": {},
   "outputs": [],
   "source": [
    "import sys\n",
    "print (sys.version)\n",
    "print (\"Path to the python executable:\", sys.executable)"
   ]
  },
  {
   "cell_type": "code",
   "execution_count": null,
   "metadata": {},
   "outputs": [],
   "source": [
    "%matplotlib inline\n",
    "import os\n",
    "import psutil\n",
    "import numpy as np\n",
    "import keras as K\n",
    "import h5py\n",
    "import time\n",
    "import tensorflow as tf \n",
    "import sys; sys.argv=['']; del sys\n",
    "\n",
    "from argparser import args\n",
    "\n",
    "if args.keras_api:\n",
    "    import keras as K\n",
    "else:\n",
    "    from tensorflow import keras as K\n",
    "\n",
    "import matplotlib.pyplot as plt\n",
    "\n",
    "onnx=False\n",
    "#TODO - Enable nGraph Bridge - Switch to (decathlon) venv!\n",
    "# import ngraph_bridge\n",
    "\n",
    "if onnx:\n",
    "    #TODO - Include ngraph onnx backend\n",
    "    import onnx\n",
    "    from ngraph_onnx.onnx_importer.importer import import_onnx_model\n",
    "    import ngraph as ng\n",
    "\n",
    "print (\"We are using Tensorflow version\", tf.__version__,\\\n",
    "       \"with Intel(R) MKL\", \"enabled\" if tf.pywrap_tensorflow.IsMklEnabled() else \"disabled\",)"
   ]
  },
  {
   "cell_type": "code",
   "execution_count": null,
   "metadata": {},
   "outputs": [],
   "source": [
    "# Create output directory for images\n",
    "png_directory = \"inference_examples\"\n",
    "if not os.path.exists(png_directory):\n",
    "    os.makedirs(png_directory)\n",
    "    \n",
    "data_fn = os.path.join(args.data_path, args.data_filename)\n",
    "model_fn = os.path.join(args.output_path, args.inference_filename)"
   ]
  },
  {
   "cell_type": "markdown",
   "metadata": {},
   "source": [
    "#### Define the DICE coefficient and loss function"
   ]
  },
  {
   "cell_type": "markdown",
   "metadata": {},
   "source": [
    "The Sørensen–Dice coefficient is a statistic used for comparing the similarity of two samples. Given two sets, X and Y, it is defined as\n",
    "\n",
    "\\begin{equation}\n",
    "dice = \\frac{2|X\\cap Y|}{|X|+|Y|}\n",
    "\\end{equation}"
   ]
  },
  {
   "cell_type": "code",
   "execution_count": null,
   "metadata": {},
   "outputs": [],
   "source": [
    "def calc_dice(y_true, y_pred, smooth=1.):\n",
    "    \"\"\"\n",
    "    Sorensen Dice coefficient\n",
    "    \"\"\"\n",
    "    numerator = 2.0 * np.sum(y_true * y_pred) + smooth\n",
    "    denominator = np.sum(y_true) + np.sum(y_pred) + smooth\n",
    "    coef = numerator / denominator\n",
    "\n",
    "    return coef\n",
    "\n",
    "def dice_coef(y_true, y_pred, axis=(1, 2), smooth=1.):\n",
    "    \"\"\"\n",
    "    Sorenson (Soft) Dice\n",
    "    \\frac{  2 \\times \\left | T \\right | \\cap \\left | P \\right |}{ \\left | T \\right | +  \\left | P \\right |  }\n",
    "    where T is ground truth mask and P is the prediction mask\n",
    "    \"\"\"\n",
    "    intersection = tf.reduce_sum(y_true * y_pred, axis=axis)\n",
    "    union = tf.reduce_sum(y_true + y_pred, axis=axis)\n",
    "    numerator = tf.constant(2.) * intersection + smooth\n",
    "    denominator = union + smooth\n",
    "    coef = numerator / denominator\n",
    "\n",
    "    return tf.reduce_mean(coef)\n",
    "\n",
    "\n",
    "def dice_coef_loss(target, prediction, axis=(1, 2), smooth=1.):\n",
    "    \"\"\"\n",
    "    Sorenson (Soft) Dice loss\n",
    "    Using -log(Dice) as the loss since it is better behaved.\n",
    "    Also, the log allows avoidance of the division which\n",
    "    can help prevent underflow when the numbers are very small.\n",
    "    \"\"\"\n",
    "    intersection = tf.reduce_sum(prediction * target, axis=axis)\n",
    "    p = tf.reduce_sum(prediction, axis=axis)\n",
    "    t = tf.reduce_sum(target, axis=axis)\n",
    "    numerator = tf.reduce_mean(intersection + smooth)\n",
    "    denominator = tf.reduce_mean(t + p + smooth)\n",
    "    dice_loss = -tf.log(2.*numerator) + tf.log(denominator)\n",
    "\n",
    "    return dice_loss\n",
    "\n",
    "\n",
    "def combined_dice_ce_loss(y_true, y_pred, axis=(1, 2), smooth=1.,\n",
    "                          weight=0.9):\n",
    "    \"\"\"\n",
    "    Combined Dice and Binary Cross Entropy Loss\n",
    "    \"\"\"\n",
    "    return weight*dice_coef_loss(y_true, y_pred, axis, smooth) + \\\n",
    "        (1-weight)*K.losses.binary_crossentropy(y_true, y_pred)"
   ]
  },
  {
   "cell_type": "markdown",
   "metadata": {},
   "source": [
    "## Inference Time!"
   ]
  },
  {
   "cell_type": "markdown",
   "metadata": {},
   "source": [
    "Inferencing in this example can be done in 3 simple steps:\n",
    "1. Load the data\n",
    "1. Load the Keras model \n",
    "1. Perform a `model.predict` on an input image (or set of images)"
   ]
  },
  {
   "cell_type": "markdown",
   "metadata": {},
   "source": [
    "#### Step 1 : Load data"
   ]
  },
  {
   "cell_type": "code",
   "execution_count": null,
   "metadata": {},
   "outputs": [],
   "source": [
    "df = h5py.File(data_fn, \"r\")\n",
    "imgs_validation = df[\"imgs_validation\"]\n",
    "msks_validation = df[\"msks_validation\"]"
   ]
  },
  {
   "cell_type": "markdown",
   "metadata": {},
   "source": [
    "#### Step 2 : Load the model"
   ]
  },
  {
   "cell_type": "code",
   "execution_count": null,
   "metadata": {},
   "outputs": [],
   "source": [
    "model = K.models.load_model(model_fn, custom_objects={\n",
    "\"combined_dice_ce_loss\": combined_dice_ce_loss,\n",
    "\"dice_coef_loss\": dice_coef_loss,\n",
    "\"dice_coef\": dice_coef})"
   ]
  },
  {
   "cell_type": "markdown",
   "metadata": {},
   "source": [
    "#### Step 3 (final step): Perform prediction with `model.predict`\n",
    "\n",
    "We first define a convenience function that performs a prediction on one image. This function takes an image ID and a flag `plot_result` which we can use to toggle displaying the results graphically. \n",
    "\n",
    "After we have performed a prediction, we calculate the dice score to analyze how good out prediction was compared to the ground truth. "
   ]
  },
  {
   "cell_type": "code",
   "execution_count": null,
   "metadata": {},
   "outputs": [],
   "source": [
    "def predict(img_no, plot_result):\n",
    "    \"\"\"\n",
    "    Calculate the Dice and plot the predicted masks for image # img_no\n",
    "    \"\"\"\n",
    "\n",
    "    img = imgs_validation[[img_no], ]\n",
    "    msk = msks_validation[[img_no], ]\n",
    "    \n",
    "    #TODO load onnx model in ngraph\n",
    "    if onnx:\n",
    "        onnx_protobuf = onnx.load('./output/unet_model_for_decathlon_100_iter.onnx')\n",
    "        ng_models = ... #TODO\n",
    "        ng_model = ng_models[0]\n",
    "        runtime = ng.runtime(...) #TODO\n",
    "        unet = runtime.computation(ng_model['output'], *ng_model['inputs'])\n",
    "        \n",
    "        start_time = time.time()\n",
    "        pred_mask= unet(img)[0]\n",
    "        print (\"Time for prediction ngraph: \", '%.0f'%((time.time()-start_time)*1000),\"ms\")\n",
    "\n",
    "    else:\n",
    "        start_time = time.time()\n",
    "        pred_mask = model.predict(img, verbose=0, steps=None)\n",
    "        print (\"Time for prediction TF: \", '%.0f'%((time.time()-start_time)*1000),\"ms\")\n",
    "        \n",
    "    dice_score = calc_dice(pred_mask, msk)\n",
    "\n",
    "    print(\"Dice score for Image #{} = {:.4f}\".format(img_no,\n",
    "                                                     dice_score))\n",
    "    if plot_result:\n",
    "        plt.figure(figsize=(15, 15))\n",
    "        plt.subplot(1, 3, 1)\n",
    "        plt.imshow(img[0, :, :, 0], cmap=\"bone\", origin=\"lower\")\n",
    "        plt.axis(\"off\")\n",
    "        plt.title(\"MRI Input\", fontsize=20)\n",
    "        plt.subplot(1, 3, 2)\n",
    "        plt.imshow(msk[0, :, :, 0], origin=\"lower\")\n",
    "        plt.axis(\"off\")\n",
    "        plt.title(\"Ground truth\", fontsize=20)\n",
    "        plt.subplot(1, 3, 3)\n",
    "        plt.imshow(pred_mask[0, :, :, 0], origin=\"lower\")\n",
    "        plt.axis(\"off\")\n",
    "        plt.title(\"Prediction\\nDice = {:.4f}\".format(dice_score), fontsize=20)\n",
    "\n",
    "        plt.tight_layout()\n",
    "\n",
    "        png_name = os.path.join(png_directory, \"pred{}.png\".format(img_no))\n",
    "        plt.savefig(png_name, bbox_inches=\"tight\", pad_inches=0)\n",
    "        print(\"Saved png file to {}\".format(png_name))"
   ]
  },
  {
   "cell_type": "markdown",
   "metadata": {},
   "source": [
    "#### Step 3 (continued) : Perform prediction on some images. \n",
    "Use `plot_result=True/False` to toggle plotting the results. If `plot_result=True`, the prediction results will be saved in the output directory for images, which is defined by the `png_directory` variable."
   ]
  },
  {
   "cell_type": "code",
   "execution_count": null,
   "metadata": {},
   "outputs": [],
   "source": [
    "indicies_validation = [40, 63, 43, 55, 99, 101, 19, 46] #[40]\n",
    "\n",
    "for idx in indicies_validation:\n",
    "    predict(idx, plot_result=True)"
   ]
  },
  {
   "cell_type": "markdown",
   "metadata": {},
   "source": [
    "`Licensed under the Apache License, Version 2.0 (the \"License\"); you may not use this file except in compliance with the License. You may obtain a copy of the License at http://www.apache.org/licenses/LICENSE-2.0 Unless required by applicable law or agreed to in writing, software distributed under the License is distributed on an \"AS IS\" BASIS, WITHOUT WARRANTIES OR CONDITIONS OF ANY KIND, either express or implied. See the License for the specific language governing permissions and limitations under the License. SPDX-License-Identifier: EPL-2.0`"
   ]
  }
 ],
 "metadata": {
  "kernelspec": {
   "display_name": "Python (IDP)",
   "language": "python",
   "name": "idp"
  },
  "language_info": {
   "codemirror_mode": {
    "name": "ipython",
    "version": 3
   },
   "file_extension": ".py",
   "mimetype": "text/x-python",
   "name": "python",
   "nbconvert_exporter": "python",
   "pygments_lexer": "ipython3",
   "version": "3.6.5"
  }
 },
 "nbformat": 4,
 "nbformat_minor": 2
}
