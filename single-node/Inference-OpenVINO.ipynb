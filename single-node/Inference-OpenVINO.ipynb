{
 "cells": [
  {
   "cell_type": "markdown",
   "metadata": {},
   "source": [
    "# Inference example for trained 2D U-Net model on BraTS.\n",
    "Takes a trained model and performs inference on a few validation examples."
   ]
  },
  {
   "cell_type": "code",
   "execution_count": 1,
   "metadata": {},
   "outputs": [
    {
     "name": "stdout",
     "output_type": "stream",
     "text": [
      "/home/sksobhee/miniconda3/envs/idp/bin/python\n"
     ]
    }
   ],
   "source": [
    "import sys\n",
    "print (sys.executable)\n",
    "# !export MKLDNN_VERBOSE=2"
   ]
  },
  {
   "cell_type": "code",
   "execution_count": 2,
   "metadata": {},
   "outputs": [
    {
     "name": "stderr",
     "output_type": "stream",
     "text": [
      "Using TensorFlow backend.\n"
     ]
    }
   ],
   "source": [
    "%matplotlib inline\n",
    "import os\n",
    "import psutil\n",
    "import numpy as np\n",
    "import keras as K\n",
    "import h5py\n",
    "import time\n",
    "import tensorflow as tf \n",
    "import sys; sys.argv=['']; del sys\n",
    "\n",
    "from distutils.sysconfig import get_python_lib\n",
    "packages_directory=get_python_lib()\n",
    "\n",
    "from argparser import args\n",
    "\n",
    "if args.keras_api:\n",
    "    import keras as K\n",
    "else:\n",
    "    from tensorflow import keras as K\n",
    "\n",
    "import matplotlib.pyplot as plt\n",
    "\n",
    "onnx=False\n",
    "#TODO - Enable nGraph Bridge - Switch to (decathlon) venv!\n",
    "\n",
    "if onnx:\n",
    "    #TODO - Include ngraph onnx backend\n",
    "    import onnx\n",
    "    from ngraph_onnx.onnx_importer.importer import import_onnx_model\n",
    "    import ngraph as ng\n",
    "\n",
    "# print (\"We are using Tensorflow version\", tf.__version__,\\\n",
    "#        \"with Intel(R) MKL\", \"enabled\" if tf.pywrap_tensorflow.IsMklEnabled() else \"disabled\",)\n",
    "\n",
    "os.environ['MKLDNN_VERBOSE'] = \"2\""
   ]
  },
  {
   "cell_type": "code",
   "execution_count": 3,
   "metadata": {},
   "outputs": [],
   "source": [
    "#TODO: Set the multi-threading parameters for Tensorflow. \n",
    "config = tf.ConfigProto(intra_op_parallelism_threads=args.num_threads,\n",
    "                        inter_op_parallelism_threads=args.num_inter_threads)\n",
    "\n",
    "sess = tf.Session(config=config)\n",
    "\n",
    "K.backend.set_session(sess)"
   ]
  },
  {
   "cell_type": "code",
   "execution_count": 4,
   "metadata": {},
   "outputs": [],
   "source": [
    "# Create output directory for images\n",
    "png_directory = \"inference_examples\"\n",
    "if not os.path.exists(png_directory):\n",
    "    os.makedirs(png_directory)\n",
    "    \n",
    "data_fn = os.path.join(args.data_path, args.data_filename)\n",
    "model_fn = os.path.join(args.output_path, args.inference_filename)"
   ]
  },
  {
   "cell_type": "code",
   "execution_count": 5,
   "metadata": {},
   "outputs": [],
   "source": [
    "run_options = tf.RunOptions(trace_level=tf.RunOptions.FULL_TRACE)\n",
    "run_metadata= tf.RunMetadata()"
   ]
  },
  {
   "cell_type": "markdown",
   "metadata": {},
   "source": [
    "#### Define the DICE coefficient and loss function"
   ]
  },
  {
   "cell_type": "markdown",
   "metadata": {},
   "source": [
    "The Sørensen–Dice coefficient is a statistic used for comparing the similarity of two samples. Given two sets, X and Y, it is defined as\n",
    "\n",
    "\\begin{equation}\n",
    "dice = \\frac{2|X\\cap Y|}{|X|+|Y|}\n",
    "\\end{equation}"
   ]
  },
  {
   "cell_type": "code",
   "execution_count": 6,
   "metadata": {},
   "outputs": [],
   "source": [
    "def sensitivity(y_true, y_pred, axis=(1,2,3), smooth=1.):\n",
    "    return 1\n",
    "    \n",
    "def specificity(y_true, y_pred, axis=(1,2,3), smooth=1.):\n",
    "    return 1\n",
    "\n",
    "def calc_dice(y_true, y_pred, smooth=1.):\n",
    "    \"\"\"\n",
    "    Sorensen Dice coefficient\n",
    "    \"\"\"\n",
    "    numerator = 2.0 * np.sum(y_true * y_pred) + smooth\n",
    "    denominator = np.sum(y_true) + np.sum(y_pred) + smooth\n",
    "    coef = numerator / denominator\n",
    "\n",
    "    return coef\n",
    "\n",
    "def dice_coef(y_true, y_pred, axis=(1, 2), smooth=1.):\n",
    "    \"\"\"\n",
    "    Sorenson (Soft) Dice\n",
    "    \\frac{  2 \\times \\left | T \\right | \\cap \\left | P \\right |}{ \\left | T \\right | +  \\left | P \\right |  }\n",
    "    where T is ground truth mask and P is the prediction mask\n",
    "    \"\"\"\n",
    "    intersection = tf.reduce_sum(y_true * y_pred, axis=axis)\n",
    "    union = tf.reduce_sum(y_true + y_pred, axis=axis)\n",
    "    numerator = tf.constant(2.) * intersection + smooth\n",
    "    denominator = union + smooth\n",
    "    coef = numerator / denominator\n",
    "\n",
    "    return tf.reduce_mean(coef)\n",
    "\n",
    "\n",
    "def dice_coef_loss(target, prediction, axis=(1, 2), smooth=1.):\n",
    "    \"\"\"\n",
    "    Sorenson (Soft) Dice loss\n",
    "    Using -log(Dice) as the loss since it is better behaved.\n",
    "    Also, the log allows avoidance of the division which\n",
    "    can help prevent underflow when the numbers are very small.\n",
    "    \"\"\"\n",
    "    intersection = tf.reduce_sum(prediction * target, axis=axis)\n",
    "    p = tf.reduce_sum(prediction, axis=axis)\n",
    "    t = tf.reduce_sum(target, axis=axis)\n",
    "    numerator = tf.reduce_mean(intersection + smooth)\n",
    "    denominator = tf.reduce_mean(t + p + smooth)\n",
    "    dice_loss = -tf.log(2.*numerator) + tf.log(denominator)\n",
    "\n",
    "    return dice_loss\n",
    "\n",
    "\n",
    "def combined_dice_ce_loss(y_true, y_pred, axis=(1, 2), smooth=1., weight=0.9):\n",
    "    \"\"\"\n",
    "    Combined Dice and Binary Cross Entropy Loss\n",
    "    \"\"\"\n",
    "    return weight*dice_coef_loss(y_true, y_pred, axis, smooth) + \\\n",
    "        (1-weight)*K.losses.binary_crossentropy(y_true, y_pred)"
   ]
  },
  {
   "cell_type": "markdown",
   "metadata": {},
   "source": [
    "## Inference Time!"
   ]
  },
  {
   "cell_type": "markdown",
   "metadata": {},
   "source": [
    "Inferencing in this example can be done in 3 simple steps:\n",
    "1. Load the data\n",
    "1. Load the Keras model \n",
    "1. Perform a `model.predict` on an input image (or set of images)"
   ]
  },
  {
   "cell_type": "markdown",
   "metadata": {},
   "source": [
    "#### Step 1 : Load data"
   ]
  },
  {
   "cell_type": "code",
   "execution_count": 7,
   "metadata": {},
   "outputs": [],
   "source": [
    "df = h5py.File(data_fn, \"r\")\n",
    "imgs_validation = df[\"imgs_validation\"]\n",
    "msks_validation = df[\"msks_validation\"]"
   ]
  },
  {
   "cell_type": "markdown",
   "metadata": {},
   "source": [
    "#### Step 2 : Load the model"
   ]
  },
  {
   "cell_type": "code",
   "execution_count": 8,
   "metadata": {},
   "outputs": [],
   "source": [
    "model = K.models.load_model(model_fn, custom_objects={\n",
    "\"sensitivity\": sensitivity,\n",
    "\"specificity\": specificity,\n",
    "\"combined_dice_ce_loss\": combined_dice_ce_loss,\n",
    "\"dice_coef_loss\": dice_coef_loss,\n",
    "\"dice_coef\": dice_coef})"
   ]
  },
  {
   "cell_type": "markdown",
   "metadata": {},
   "source": [
    "#### Step 3 (final step): Perform prediction with `model.predict`\n",
    "\n",
    "We first define a convenience function that performs a prediction on one image. This function takes an image ID and a flag `plot_result` which we can use to toggle displaying the results graphically. \n",
    "\n",
    "After we have performed a prediction, we calculate the dice score to analyze how good out prediction was compared to the ground truth. "
   ]
  },
  {
   "cell_type": "code",
   "execution_count": 9,
   "metadata": {},
   "outputs": [],
   "source": [
    "def predict(img_no, plot_result):\n",
    "    \"\"\"\n",
    "    Calculate the Dice and plot the predicted masks for image # img_no\n",
    "    \"\"\"\n",
    "\n",
    "    img = imgs_validation[[img_no], ]\n",
    "    msk = msks_validation[[img_no], ]\n",
    "    \n",
    "    #TODO load onnx model in ngraph\n",
    "    if onnx:\n",
    "        onnx_protobuf = onnx.load('./output/unet_model_for_decathlon_100_iter.onnx')\n",
    "        ng_models = import_onnx_model(onnx_protobuf)\n",
    "        ng_model = ng_models[0]\n",
    "        runtime = ng.runtime(backend_name='CPU')\n",
    "        unet = runtime.computation(ng_model['output'], *ng_model['inputs'])\n",
    "        \n",
    "        start_time = time.time()\n",
    "        pred_mask= unet(img)[0]\n",
    "        print (\"Time for prediction ngraph: \", '%.0f'%((time.time()-start_time)*1000),\"ms\")\n",
    "\n",
    "    else:\n",
    "        start_time = time.time()\n",
    "        pred_mask = model.predict(img, verbose=0, steps=None)\n",
    "        print (\"Time for prediction TF: \", '%.0f'%((time.time()-start_time)*1000),\"ms\")\n",
    "        \n",
    "    dice_score = calc_dice(pred_mask, msk)\n",
    "\n",
    "    print(\"Dice score for Image #{} = {:.4f}\".format(img_no,\n",
    "                                                     dice_score))\n",
    "    if plot_result:\n",
    "        plt.figure(figsize=(15, 15))\n",
    "        plt.subplot(1, 3, 1)\n",
    "        plt.imshow(img[0, :, :, 0], cmap=\"bone\", origin=\"lower\")\n",
    "        plt.axis(\"off\")\n",
    "        plt.title(\"MRI Input\", fontsize=20)\n",
    "        plt.subplot(1, 3, 2)\n",
    "        plt.imshow(msk[0, :, :, 0], origin=\"lower\")\n",
    "        plt.axis(\"off\")\n",
    "        plt.title(\"Ground truth\", fontsize=20)\n",
    "        plt.subplot(1, 3, 3)\n",
    "        plt.imshow(pred_mask[0, :, :, 0], origin=\"lower\")\n",
    "        plt.axis(\"off\")\n",
    "        plt.title(\"Prediction\\nDice = {:.4f}\".format(dice_score), fontsize=20)\n",
    "\n",
    "        plt.tight_layout()\n",
    "\n",
    "        png_name = os.path.join(png_directory, \"pred{}.png\".format(img_no))\n",
    "        plt.savefig(png_name, bbox_inches=\"tight\", pad_inches=0)\n",
    "        print(\"Saved png file to {}\".format(png_name))"
   ]
  },
  {
   "cell_type": "markdown",
   "metadata": {},
   "source": [
    "#### Step 3 (continued) : Perform prediction on some images. \n",
    "Use `plot_result=True/False` to toggle plotting the results. If `plot_result=True`, the prediction results will be saved in the output directory for images, which is defined by the `png_directory` variable."
   ]
  },
  {
   "cell_type": "code",
   "execution_count": 10,
   "metadata": {},
   "outputs": [
    {
     "name": "stdout",
     "output_type": "stream",
     "text": [
      "Time for prediction TF:  341 ms\n",
      "Dice score for Image #54 = 0.7804\n",
      "Saved png file to inference_examples/pred54.png\n"
     ]
    },
    {
     "data": {
      "image/png": "[encoded data removed]",
      "text/plain": [
       "<matplotlib.figure.Figure at 0x7fc626e6b400>"
      ]
     },
     "metadata": {},
     "output_type": "display_data"
    }
   ],
   "source": [
    "indicies_validation = [54] #[40]\n",
    "\n",
    "for idx in indicies_validation:\n",
    "    predict(idx, plot_result=True)"
   ]
  },
  {
   "cell_type": "code",
   "execution_count": 11,
   "metadata": {},
   "outputs": [],
   "source": [
    "# %save myscript.py 1-9"
   ]
  },
  {
   "cell_type": "markdown",
   "metadata": {},
   "source": [
    "## OpenVINO"
   ]
  },
  {
   "cell_type": "markdown",
   "metadata": {},
   "source": [
    "In order to use OpenVINO, we need to do a few steps:\n",
    "\n",
    "1. Convert our Keras model to a Tensorflow model. \n",
    "1. Freeze the Tensorflow saved format model\n",
    "1. Use the OpenVINO Model Optimizer to convert the above freezed-model to the OpenVINO Intermediate Representation (IR) format\n",
    "1. Validation\n",
    "1. Inference time :)"
   ]
  },
  {
   "cell_type": "markdown",
   "metadata": {},
   "source": [
    "#### Step1 : Convert our Keras model to a Tensorflow model"
   ]
  },
  {
   "cell_type": "code",
   "execution_count": 12,
   "metadata": {},
   "outputs": [
    {
     "data": {
      "text/plain": [
       "\"\\nIf there are other custom loss and metric functions you'll need to specify them\\nand add them to the dictionary below.\\n\""
      ]
     },
     "execution_count": 12,
     "metadata": {},
     "output_type": "execute_result"
    }
   ],
   "source": [
    "\"\"\"\n",
    "If there are other custom loss and metric functions you'll need to specify them\n",
    "and add them to the dictionary below.\n",
    "\"\"\"\n",
    "# model = keras.models.load_model(args.input_filename, custom_objects={\n",
    "#                                 \"dice_coef\": dice_coef,\n",
    "#                                 \"sensitivity\": sensitivity,\n",
    "#                                 \"specificity\": specificity,\n",
    "#                                 \"combined_dice_ce_loss\": combined_dice_ce_loss,\n",
    "#                                 \"dice_coef_loss\": dice_coef_loss})"
   ]
  },
  {
   "cell_type": "code",
   "execution_count": 13,
   "metadata": {},
   "outputs": [
    {
     "name": "stdout",
     "output_type": "stream",
     "text": [
      "Saving the model to directory saved_2dunet_model_protobuf\n",
      "INFO:tensorflow:No assets to save.\n",
      "INFO:tensorflow:No assets to write.\n",
      "INFO:tensorflow:SavedModel written to: saved_2dunet_model_protobuf/saved_model.pb\n",
      "TensorFlow protobuf version of model is saved.\n",
      "Model input name =  MRImages\n",
      "Model input shape =  (?, 144, 144, 4)\n",
      "Model output name =  PredictionMask/Sigmoid\n",
      "Model output shape =  (?, 144, 144, 1)\n"
     ]
    }
   ],
   "source": [
    "signature = tf.saved_model.signature_def_utils.predict_signature_def(\n",
    "    inputs={'input': model.input}, outputs={'output': model.output})\n",
    "\n",
    "print(\"Saving the model to directory {}\".format(args.output_directory))\n",
    "\n",
    "builder = tf.saved_model.builder.SavedModelBuilder(args.output_directory)\n",
    "builder.add_meta_graph_and_variables(sess=sess,    \n",
    "                                     tags=[tf.saved_model.tag_constants.SERVING],    \n",
    "                                     signature_def_map={\n",
    "                                         tf.saved_model.signature_constants.DEFAULT_SERVING_SIGNATURE_DEF_KEY:signature\n",
    "                                     })\n",
    "builder.save()\n",
    "print(\"TensorFlow protobuf version of model is saved.\")\n",
    "\n",
    "print(\"Model input name = \", model.input.op.name)\n",
    "print(\"Model input shape = \", model.input.shape)\n",
    "print(\"Model output name = \", model.output.op.name)\n",
    "print(\"Model output shape = \", model.output.shape)"
   ]
  },
  {
   "cell_type": "markdown",
   "metadata": {},
   "source": [
    "`Licensed under the Apache License, Version 2.0 (the \"License\"); you may not use this file except in compliance with the License. You may obtain a copy of the License at http://www.apache.org/licenses/LICENSE-2.0 Unless required by applicable law or agreed to in writing, software distributed under the License is distributed on an \"AS IS\" BASIS, WITHOUT WARRANTIES OR CONDITIONS OF ANY KIND, either express or implied. See the License for the specific language governing permissions and limitations under the License. SPDX-License-Identifier: EPL-2.0`"
   ]
  },
  {
   "cell_type": "markdown",
   "metadata": {},
   "source": [
    "#### Step 2: Freeze the Tensorflow saved format model"
   ]
  },
  {
   "cell_type": "markdown",
   "metadata": {},
   "source": [
    "To freeze the mode, we create a folder `frozel_model` and use Tensorflow's `freeze_graph.py`. \n",
    "Why we do this: https://blog.metaflow.fr/tensorflow-how-to-freeze-a-model-and-serve-it-with-a-python-api-d4f3596b3adc\n"
   ]
  },
  {
   "cell_type": "code",
   "execution_count": 30,
   "metadata": {},
   "outputs": [
    {
     "name": "stdout",
     "output_type": "stream",
     "text": [
      "mkdir: cannot create directory ‘output/frozen_model’: File exists\r\n"
     ]
    }
   ],
   "source": [
    "!mkdir output/frozen_model"
   ]
  },
  {
   "cell_type": "code",
   "execution_count": 16,
   "metadata": {},
   "outputs": [
    {
     "name": "stdout",
     "output_type": "stream",
     "text": [
      "/home/sksobhee/miniconda3/envs/idp/lib/python3.6/site-packages\n",
      "saved_2dunet_model_protobuf\n",
      "PredictionMask/Sigmoid\n"
     ]
    }
   ],
   "source": [
    "print(packages_directory)\n",
    "print(args.output_directory)\n",
    "print(model.output.op.name)\n",
    "od = 'output/saved_2dunet_model_protobuf'"
   ]
  },
  {
   "cell_type": "code",
   "execution_count": 29,
   "metadata": {},
   "outputs": [
    {
     "name": "stdout",
     "output_type": "stream",
     "text": [
      "/home/sksobhee/miniconda3/envs/idp/lib/python3.6/site-packages/tensorflow/python/tools/freeze_graph.py\n",
      "Input checkpoint '' doesn't exist!\n"
     ]
    },
    {
     "data": {
      "text/plain": [
       "<matplotlib.figure.Figure at 0x7fc56c711d68>"
      ]
     },
     "metadata": {},
     "output_type": "display_data"
    }
   ],
   "source": [
    "path = packages_directory + '/tensorflow/python/tools/freeze_graph.py'\n",
    "%alias path1 path\n",
    "print (path)\n",
    "# %run -i /home/sksobhee/miniconda3/envs/idp/lib/python3.6/site-packages/tensorflow/python/tools/freeze_graph.py"
   ]
  },
  {
   "cell_type": "code",
   "execution_count": 33,
   "metadata": {},
   "outputs": [
    {
     "name": "stdout",
     "output_type": "stream",
     "text": [
      "\n",
      "\n",
      "==============================\n",
      "To freeze this model, run the commands:\n",
      "mkdir frozen_model\n",
      "python /home/sksobhee/miniconda3/envs/idp/lib/python3.6/site-packages/tensorflow/python/tools/freeze_graph.py --input_saved_model_dir saved_2dunet_model_protobuf --output_node_names PredictionMask/Sigmoid --output_graph frozen_model/saved_model_frozen.pb\n"
     ]
    }
   ],
   "source": [
    "print()\n",
    "print()\n",
    "print(\"=\"*30)\n",
    "print(\"To freeze this model, run the commands:\")\n",
    "print(\"mkdir frozen_model\")\n",
    "print(\"python {}/tensorflow/python/tools/freeze_graph.py \"\n",
    "       \"--input_saved_model_dir {} \"\n",
    "       \"--output_node_names {} \"\n",
    "       \"--output_graph frozen_model/saved_model_frozen.pb\".format(packages_directory,\n",
    "       args.output_directory, model.output.op.name))"
   ]
  },
  {
   "cell_type": "code",
   "execution_count": 31,
   "metadata": {},
   "outputs": [],
   "source": [
    "from tensorflow.python.tools.freeze_graph import freeze_graph "
   ]
  },
  {
   "cell_type": "code",
   "execution_count": 32,
   "metadata": {},
   "outputs": [
    {
     "ename": "TypeError",
     "evalue": "freeze_graph() missing 8 required positional arguments: 'input_graph', 'input_saver', 'input_binary', 'input_checkpoint', 'restore_op_name', 'filename_tensor_name', 'clear_devices', and 'initializer_nodes'",
     "output_type": "error",
     "traceback": [
      "\u001b[0;31m---------------------------------------------------------------------------\u001b[0m",
      "\u001b[0;31mTypeError\u001b[0m                                 Traceback (most recent call last)",
      "\u001b[0;32m~/miniconda3/envs/idp/lib/python3.6/site-packages/tensorflow/python/tools/freeze_graph.py\u001b[0m in \u001b[0;36m<module>\u001b[0;34m()\u001b[0m\n\u001b[1;32m      1\u001b[0m freeze_graph(input_saved_model_dir=args.output_directory,\n\u001b[1;32m      2\u001b[0m              \u001b[0moutput_node_names\u001b[0m\u001b[0;34m=\u001b[0m\u001b[0mmodel\u001b[0m\u001b[0;34m.\u001b[0m\u001b[0moutput\u001b[0m\u001b[0;34m.\u001b[0m\u001b[0mop\u001b[0m\u001b[0;34m.\u001b[0m\u001b[0mname\u001b[0m\u001b[0;34m,\u001b[0m\u001b[0;34m\u001b[0m\u001b[0m\n\u001b[0;32m----> 3\u001b[0;31m              output_graph='frozen_model/saved_model_frozen.pb')\n\u001b[0m",
      "\u001b[0;31mTypeError\u001b[0m: freeze_graph() missing 8 required positional arguments: 'input_graph', 'input_saver', 'input_binary', 'input_checkpoint', 'restore_op_name', 'filename_tensor_name', 'clear_devices', and 'initializer_nodes'"
     ]
    }
   ],
   "source": [
    "freeze_graph(input_graph', 'input_saver', 'input_binary', 'input_checkpoint', 'restore_op_name', 'filename_tensor_name', 'clear_devices', and 'initializer_nodes\n",
    "            input_saved_model_dir=args.output_directory,\n",
    "             output_node_names=model.output.op.name,\n",
    "             output_graph='frozen_model/saved_model_frozen.pb')\n"
   ]
  },
  {
   "cell_type": "code",
   "execution_count": null,
   "metadata": {},
   "outputs": [],
   "source": []
  }
 ],
 "metadata": {
  "kernelspec": {
   "display_name": "Python [conda env:idp]",
   "language": "python",
   "name": "conda-env-idp-py"
  },
  "language_info": {
   "codemirror_mode": {
    "name": "ipython",
    "version": 3
   },
   "file_extension": ".py",
   "mimetype": "text/x-python",
   "name": "python",
   "nbconvert_exporter": "python",
   "pygments_lexer": "ipython3",
   "version": "3.6.5"
  }
 },
 "nbformat": 4,
 "nbformat_minor": 2
}
